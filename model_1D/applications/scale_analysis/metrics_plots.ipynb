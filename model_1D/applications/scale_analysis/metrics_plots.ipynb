{
 "cells": [
  {
   "cell_type": "code",
   "execution_count": 68,
   "metadata": {},
   "outputs": [],
   "source": [
    "import numpy as np\n",
    "import matplotlib.pyplot as plt\n",
    "import seaborn as sns\n",
    "import pandas as pd\n",
    "from scipy.signal import chirp, find_peaks, peak_widths\n",
    "\n",
    "sns.set_context('paper', font_scale=1.4)\n",
    "sns.set_style('whitegrid')"
   ]
  },
  {
   "cell_type": "markdown",
   "metadata": {},
   "source": [
    "## Functions for finding metrics"
   ]
  },
  {
   "cell_type": "code",
   "execution_count": 69,
   "metadata": {},
   "outputs": [],
   "source": [
    "\n",
    "\n",
    "def find_peak_properties(x, prominence=0.05, rel_height=0.5):\n",
    "    # find peaks and ignore any peaks that have low prominence\n",
    "    peaks, _ = find_peaks(x, prominence=prominence)\n",
    "    widths = peak_widths(x, peaks, rel_height=rel_height)\n",
    "\n",
    "    # find the peak heights\n",
    "    peak_heights = x[peaks]\n",
    "\n",
    "    # find the peak spacings\n",
    "    left_coords = widths[2]\n",
    "    right_coords = widths[3]\n",
    "\n",
    "    spacings = []\n",
    "\n",
    "    for i in range(len(left_coords)-1):\n",
    "        spacings.append(left_coords[i+1] - right_coords[i])\n",
    "\n",
    "    return peak_heights, widths[0], spacings"
   ]
  },
  {
   "attachments": {},
   "cell_type": "markdown",
   "metadata": {},
   "source": [
    "## Core model metrics (1D)"
   ]
  },
  {
   "cell_type": "code",
   "execution_count": 70,
   "metadata": {},
   "outputs": [],
   "source": [
    "# load n1_1D.npy to n10_1D.npy\n",
    "n1 = np.load('core/n1_1D.npy')\n",
    "n2 = np.load('core/n2_1D.npy')\n",
    "n3 = np.load('core/n3_1D.npy')\n",
    "n4 = np.load('core/n4_1D.npy')\n",
    "n5 = np.load('core/n5_1D.npy')\n",
    "n6 = np.load('core/n6_1D.npy')\n",
    "n7 = np.load('core/n7_1D.npy')\n",
    "n8 = np.load('core/n8_1D.npy')\n",
    "n9 = np.load('core/n9_1D.npy')\n",
    "n10 = np.load('core/n10_1D.npy')\n",
    "\n",
    "dist_list = [n1, n2, n3, n4, n5, n6, n7, n8, n9, n10]"
   ]
  },
  {
   "cell_type": "code",
   "execution_count": 71,
   "metadata": {},
   "outputs": [
    {
     "data": {
      "image/png": "[encoded data removed]",
      "text/plain": [
       "<Figure size 432x288 with 1 Axes>"
      ]
     },
     "metadata": {},
     "output_type": "display_data"
    }
   ],
   "source": [
    "\n",
    "all_widths = []\n",
    "all_heights = []\n",
    "all_spacings = []\n",
    "\n",
    "for cell_dist in dist_list:\n",
    "    heights, widths, spacings = find_peak_properties(cell_dist)\n",
    "    all_widths.append(widths)\n",
    "    all_heights.append(heights)\n",
    "    all_spacings.append(spacings)\n",
    "\n",
    "\n",
    "# flatten the lists\n",
    "all_widths = [item for sublist in all_widths for item in sublist]\n",
    "all_heights = [item for sublist in all_heights for item in sublist]\n",
    "all_spacings = [item for sublist in all_spacings for item in sublist]\n",
    "\n",
    "# make the lists the same length by adding nan values\n",
    "all_widths = all_widths + [np.nan]*(len(all_heights) - len(all_widths))\n",
    "all_spacings = all_spacings + [np.nan]*(len(all_heights) - len(all_spacings))\n",
    "\n",
    "\n",
    "# make a dataframe of the data \n",
    "df = pd.DataFrame({'widths': all_widths, 'spacings': all_spacings})\n",
    "df = df*(3000/500) # scale to micrometers from grid points\n",
    "\n",
    "# make a seaborn boxplot \n",
    "sns.boxplot(data=df, palette='tab10', showfliers=False)\n",
    "plt.xticks([0, 1], [r'Width [$\\mu$m]', r'Spacing [$\\mu$m]'])\n",
    "plt.ylim(0, 950)\n",
    "plt.tight_layout()\n",
    "\n",
    "#make legend to show the mean values\n",
    "mean_width = np.nanmean(all_widths)*(3000/500)\n",
    "mean_spacing = np.nanmean(all_spacings)*(3000/500)\n",
    "# make annotation in a box\n",
    "#plt.annotate(r'Mean width = {:.0f} $\\mu$m'.format(mean_width), xy=(0.75, 2800))\n",
    "#plt.annotate(r'Mean spacing = {:.0f} $\\mu$m'.format(mean_spacing), xy=(0.75, 2600))\n",
    "bbox_props = dict(boxstyle=\"round\", fc=\"w\", ec=\"0.5\", alpha=0.9)\n",
    "\n",
    "textstr = '\\n'.join((\n",
    "    r'Mean width = $%.0f \\mu$m' % (mean_width, ),\n",
    "    r'Mean spacing = $%.0f \\mu$m' % (mean_spacing, )))\n",
    "\n",
    "plt.text(-0.4, 800, textstr, ha=\"left\", va=\"center\", size=14, bbox=bbox_props)\n",
    "\n",
    "plt.savefig('width_spacing_boxplot_1D.png', dpi=300)\n",
    "\n",
    "# annotate the plot with the mean values\n",
    "mean_width = np.nanmean(all_widths)\n",
    "mean_height = np.nanmean(all_heights)\n",
    "mean_spacing = np.nanmean(all_spacings)\n",
    "\n",
    "#plt.annotate('Mean width = {:.2f}'.format(mean_width), xy=(0, mean_width), xytext=(0, mean_width+0.1))\n",
    "core_widths = all_widths\n",
    "core_spacings = all_spacings"
   ]
  },
  {
   "cell_type": "code",
   "execution_count": 72,
   "metadata": {},
   "outputs": [],
   "source": [
    "#df_heights = pd.DataFrame({'Heights': all_heights})\n",
    "#sns.boxplot(y='Heights', data=df_heights, showfliers=False)\n",
    "#sns.violinplot(y='Heights', data=df_heights, inner='quartile')\n",
    "#plt.xlabel('Maximum cell volume fraction')\n",
    "#plt.ylabel('Volume fraction [-]')\n",
    "#plt.tight_layout()"
   ]
  },
  {
   "attachments": {},
   "cell_type": "markdown",
   "metadata": {},
   "source": [
    "## Binding model metrics (1D)"
   ]
  },
  {
   "cell_type": "code",
   "execution_count": 73,
   "metadata": {},
   "outputs": [],
   "source": [
    "n_b1 = np.load('binding/n_ex0.npy')\n",
    "n_b2 = np.load('binding/n_ex1.npy')\n",
    "n_b3 = np.load('binding/n_ex2.npy')\n",
    "n_b4 = np.load('binding/n_ex3.npy')\n",
    "n_b5 = np.load('binding/n_ex4.npy')\n",
    "\n",
    "dist_list = [n_b1, n_b2, n_b3, n_b4, n_b5]"
   ]
  },
  {
   "cell_type": "code",
   "execution_count": 74,
   "metadata": {},
   "outputs": [
    {
     "data": {
      "image/png": "[encoded data removed]",
      "text/plain": [
       "<Figure size 432x288 with 1 Axes>"
      ]
     },
     "metadata": {},
     "output_type": "display_data"
    }
   ],
   "source": [
    "\n",
    "all_widths = []\n",
    "all_heights = []\n",
    "all_spacings = []\n",
    "\n",
    "for cell_dist in dist_list:\n",
    "    heights, widths, spacings = find_peak_properties(cell_dist)\n",
    "    all_widths.append(widths)\n",
    "    all_heights.append(heights)\n",
    "    all_spacings.append(spacings)\n",
    "\n",
    "\n",
    "# flatten the lists\n",
    "all_widths = [item for sublist in all_widths for item in sublist]\n",
    "all_heights = [item for sublist in all_heights for item in sublist]\n",
    "all_spacings = [item for sublist in all_spacings for item in sublist]\n",
    "\n",
    "# make the lists the same length by adding nan values\n",
    "all_widths = all_widths + [np.nan]*(len(all_heights) - len(all_widths))\n",
    "all_spacings = all_spacings + [np.nan]*(len(all_heights) - len(all_spacings))\n",
    "\n",
    "\n",
    "# make a dataframe of the data \n",
    "df = pd.DataFrame({'widths': all_widths, 'spacings': all_spacings})\n",
    "df = df*(3000/500) # scale to micrometers from grid points\n",
    "\n",
    "# make a seaborn boxplot \n",
    "sns.boxplot(data=df, palette='tab10', showfliers=False)\n",
    "plt.xticks([0, 1], [r'Width [$\\mu$m]', r'Spacing [$\\mu$m]'])\n",
    "plt.ylim(0, 950)\n",
    "plt.tight_layout()\n",
    "\n",
    "#make legend to show the mean values\n",
    "mean_width = np.nanmean(all_widths)*(3000/500)\n",
    "mean_spacing = np.nanmean(all_spacings)*(3000/500)\n",
    "# make annotation in a box\n",
    "#plt.annotate(r'Mean width = {:.0f} $\\mu$m'.format(mean_width), xy=(0.75, 2800))\n",
    "#plt.annotate(r'Mean spacing = {:.0f} $\\mu$m'.format(mean_spacing), xy=(0.75, 2600))\n",
    "bbox_props = dict(boxstyle=\"round\", fc=\"w\", ec=\"0.5\", alpha=0.9)\n",
    "\n",
    "textstr = '\\n'.join((\n",
    "    r'Mean width = $%.0f \\mu$m' % (mean_width, ),\n",
    "    r'Mean spacing = $%.0f \\mu$m' % (mean_spacing, )))\n",
    "\n",
    "plt.text(-0.4, 800, textstr, ha=\"left\", va=\"center\", size=14, bbox=bbox_props)\n",
    "\n",
    "plt.savefig('width_spacing_boxplot_binding_1D.png', dpi=300)\n",
    "\n",
    "# annotate the plot with the mean values\n",
    "mean_width = np.nanmean(all_widths)\n",
    "mean_height = np.nanmean(all_heights)\n",
    "mean_spacing = np.nanmean(all_spacings)\n",
    "\n",
    "#plt.annotate('Mean width = {:.2f}'.format(mean_width), xy=(0, mean_width), xytext=(0, mean_width+0.1))\n",
    "\n",
    "binding_widths = all_widths\n",
    "binding_spacings = all_spacings"
   ]
  },
  {
   "cell_type": "code",
   "execution_count": 75,
   "metadata": {},
   "outputs": [],
   "source": [
    "#df_heights = pd.DataFrame({'Heights': all_heights})\n",
    "#sns.boxplot(y='Heights', data=df_heights, showfliers=False)\n",
    "#sns.violinplot(y='Heights', data=df_heights, inner='quartile')\n",
    "#plt.xlabel('Maximum cell volume fraction')\n",
    "#plt.ylabel('Volume fraction [-]')\n",
    "#plt.tight_layout()\n"
   ]
  },
  {
   "attachments": {},
   "cell_type": "markdown",
   "metadata": {},
   "source": [
    "### check significance"
   ]
  },
  {
   "cell_type": "code",
   "execution_count": 82,
   "metadata": {},
   "outputs": [],
   "source": [
    "# remove the nan values\n",
    "core_widths = [x for x in core_widths if str(x) != 'nan']\n",
    "core_spacings = [x for x in core_spacings if str(x) != 'nan']\n",
    "binding_widths = [x for x in binding_widths if str(x) != 'nan']\n",
    "binding_spacings = [x for x in binding_spacings if str(x) != 'nan']"
   ]
  },
  {
   "cell_type": "code",
   "execution_count": 89,
   "metadata": {},
   "outputs": [
    {
     "name": "stdout",
     "output_type": "stream",
     "text": [
      "t = 6.9181836855, p = 0.0000000023\n"
     ]
    }
   ],
   "source": [
    "# do t-test to compare core_widths and binding_widths\n",
    "import scipy.stats as stats\n",
    "t, p = stats.ttest_ind(core_widths, binding_widths, equal_var=True)\n",
    "print('t = {:.10f}, p = {:.10f}'.format(t, p))"
   ]
  },
  {
   "cell_type": "code",
   "execution_count": 90,
   "metadata": {},
   "outputs": [
    {
     "name": "stdout",
     "output_type": "stream",
     "text": [
      "t = 14.18186, p = 0.0000000000\n"
     ]
    }
   ],
   "source": [
    "# do t-test to compare core_spacings and binding_spacings\n",
    "\n",
    "t, p = stats.ttest_ind(core_spacings, binding_spacings, equal_var=True)\n",
    "print('t = {:.5f}, p = {:.10f}'.format(t, p))"
   ]
  },
  {
   "cell_type": "code",
   "execution_count": null,
   "metadata": {},
   "outputs": [],
   "source": []
  }
 ],
 "metadata": {
  "kernelspec": {
   "display_name": "base",
   "language": "python",
   "name": "python3"
  },
  "language_info": {
   "codemirror_mode": {
    "name": "ipython",
    "version": 3
   },
   "file_extension": ".py",
   "mimetype": "text/x-python",
   "name": "python",
   "nbconvert_exporter": "python",
   "pygments_lexer": "ipython3",
   "version": "3.8.8"
  },
  "orig_nbformat": 4,
  "vscode": {
   "interpreter": {
    "hash": "e15a91b2be2c8c7c7ece1f74598c89277cf375967b74fd2eeb252f25808b265f"
   }
  }
 },
 "nbformat": 4,
 "nbformat_minor": 2
}
