{
 "cells": [
  {
   "cell_type": "code",
   "execution_count": 2,
   "metadata": {},
   "outputs": [],
   "source": [
    "import sys\n",
    "sys.path.insert(0, '../')\n",
    "import numpy as np\n",
    "import matplotlib.pyplot as plt\n",
    "from src.ModelClasses import Geometry, CellType, Water, Solute, Grid, BoundSolute\n",
    "from src.ModelSetup import Nondimensionalise, CalculateTimestep\n",
    "from src.TimestepManager import Timestep\n",
    "from tqdm import tqdm\n",
    "import seaborn as sns\n",
    "sns.set_style('whitegrid')\n",
    "sns.set_context('paper', font_scale=1.5)"
   ]
  },
  {
   "cell_type": "code",
   "execution_count": 3,
   "metadata": {},
   "outputs": [
    {
     "name": "stderr",
     "output_type": "stream",
     "text": [
      "  4%|▍         | 4/101 [00:00<00:02, 39.98it/s]"
     ]
    },
    {
     "name": "stdout",
     "output_type": "stream",
     "text": [
      "100\n"
     ]
    },
    {
     "name": "stderr",
     "output_type": "stream",
     "text": [
      "100%|██████████| 101/101 [00:02<00:00, 47.11it/s]\n",
      "  7%|▋         | 7/101 [00:00<00:01, 65.54it/s]"
     ]
    },
    {
     "name": "stdout",
     "output_type": "stream",
     "text": [
      "cons_error = 2.1770308125698194e-05\n",
      "100\n"
     ]
    },
    {
     "name": "stderr",
     "output_type": "stream",
     "text": [
      "100%|██████████| 101/101 [00:01<00:00, 63.97it/s]\n",
      "  5%|▍         | 5/101 [00:00<00:02, 46.58it/s]"
     ]
    },
    {
     "name": "stdout",
     "output_type": "stream",
     "text": [
      "cons_error = 2.8708433496402227e-05\n",
      "100\n"
     ]
    },
    {
     "name": "stderr",
     "output_type": "stream",
     "text": [
      "100%|██████████| 101/101 [00:01<00:00, 57.86it/s]\n",
      "  7%|▋         | 7/101 [00:00<00:01, 58.72it/s]"
     ]
    },
    {
     "name": "stdout",
     "output_type": "stream",
     "text": [
      "cons_error = 3.120861863811147e-05\n",
      "100\n"
     ]
    },
    {
     "name": "stderr",
     "output_type": "stream",
     "text": [
      "100%|██████████| 101/101 [00:01<00:00, 78.90it/s]\n",
      "  9%|▉         | 9/101 [00:00<00:01, 88.26it/s]"
     ]
    },
    {
     "name": "stdout",
     "output_type": "stream",
     "text": [
      "cons_error = 3.4196764841414875e-05\n",
      "100\n"
     ]
    },
    {
     "name": "stderr",
     "output_type": "stream",
     "text": [
      "100%|██████████| 101/101 [00:01<00:00, 86.56it/s]\n",
      " 10%|▉         | 10/101 [00:00<00:00, 94.21it/s]"
     ]
    },
    {
     "name": "stdout",
     "output_type": "stream",
     "text": [
      "cons_error = 3.7831879625656396e-05\n",
      "100\n"
     ]
    },
    {
     "name": "stderr",
     "output_type": "stream",
     "text": [
      "100%|██████████| 101/101 [00:01<00:00, 90.66it/s]\n",
      " 11%|█         | 11/101 [00:00<00:00, 102.84it/s]"
     ]
    },
    {
     "name": "stdout",
     "output_type": "stream",
     "text": [
      "cons_error = 4.235660843095746e-05\n",
      "100\n"
     ]
    },
    {
     "name": "stderr",
     "output_type": "stream",
     "text": [
      "100%|██████████| 101/101 [00:01<00:00, 92.09it/s]\n",
      " 12%|█▏        | 12/101 [00:00<00:00, 114.27it/s]"
     ]
    },
    {
     "name": "stdout",
     "output_type": "stream",
     "text": [
      "cons_error = 4.8146706610132144e-05\n",
      "100\n"
     ]
    },
    {
     "name": "stderr",
     "output_type": "stream",
     "text": [
      "100%|██████████| 101/101 [00:00<00:00, 103.49it/s]"
     ]
    },
    {
     "name": "stdout",
     "output_type": "stream",
     "text": [
      "cons_error = 5.583638668357695e-05\n"
     ]
    },
    {
     "name": "stderr",
     "output_type": "stream",
     "text": [
      "\n"
     ]
    }
   ],
   "source": [
    "grid_sizes = [4000, 3000, 2750, 2500, 2250, 2000, 1750, 1500]\n",
    "\n",
    "cell_outputs = []\n",
    "cell_cons_errors = []\n",
    "\n",
    "# Loop over grid sizes\n",
    "\n",
    "for grid_size in grid_sizes:\n",
    "    nx = grid_size\n",
    "\n",
    "    # --------------------------------------  MODEL SETUP\n",
    "\n",
    "    # Input model geometry and (dimensional) parameters\n",
    "\n",
    "    geometry = Geometry(T = 1e5, L = 3e-3)\n",
    "\n",
    "    cell = CellType(diffusion_rate = 1e-14, initial_volume_fraction = 0.05, chemotaxis_strength=1.36, chemotaxis_strength_bound=42.4, matrix_drag=9.89e9, matrix_traction=0.0, contact_inhibition=0.0, aggregation_strength=0)\n",
    "\n",
    "    water = Water(matrix_volume_fraction=0.03, matrix_drag=5e7)\n",
    "\n",
    "    solute = Solute(diffusion_rate = 1e-11, initial_solute_concentration = 0, production_rate=8.74e-11, uptake_rate=0, degradation_rate=8.21e-4, binding_rate=1.5e-3)\n",
    "\n",
    "    bound_solute = BoundSolute(initial_solute_concentration=0, unbinding_rate=3.7e-3, degradation_rate=8.21e-4)\n",
    "\n",
    "    # Initialise grid\n",
    "\n",
    "    grid = Grid(nx = nx, dx = 1/nx)\n",
    "\n",
    "    # Set initial cell and water distributions\n",
    "\n",
    "    multiplier = int(nx/250)\n",
    "    np.random.seed(28) #fix noise distribution to be the same every time\n",
    "    cell.distribution = cell.initial_volume_fraction + np.random.normal(0, 0.1*cell.initial_volume_fraction, 250)\n",
    "    cell.distribution = np.repeat(cell.distribution, multiplier)\n",
    "    water.distribution = water.available_volume_fraction - cell.distribution\n",
    "\n",
    "    # Set initial cell velocity\n",
    "\n",
    "    cell.velocity = np.zeros(grid.nx)\n",
    "\n",
    "    # Set initial solute distribution\n",
    "\n",
    "    solute.distribution = solute.uniform_solute_distribution(water, grid)\n",
    "\n",
    "    bound_solute.distribution = bound_solute.uniform_solute_distribution(water, grid)\n",
    "\n",
    "    # Save initial distributions\n",
    "\n",
    "    initial_cell_distribution = cell.distribution\n",
    "    initial_solute_distribution = solute.distribution\n",
    "\n",
    "    # Nondimensionalise the input parameters\n",
    "\n",
    "    Nondimensionalise(cell, solute, bound_solute, water, geometry, cM = 1e-9, cell_viscosity = 1e4)\n",
    "\n",
    "    # Set fixed timestep and number of timesteps\n",
    "\n",
    "    dt = 0.002\n",
    "    Tmax = 0.2\n",
    "    nsteps = int(Tmax/dt)\n",
    "    print(nsteps)\n",
    "\n",
    "    # -------------------------------- RUN THE MODEL\n",
    "\n",
    "    cons_init = np.sum(cell.distribution)\n",
    "\n",
    "    for t in tqdm(range(nsteps+1)):\n",
    "        Timestep(cell, solute, bound_solute, water, grid, dt)\n",
    "\n",
    "    # Calculate conservation error\n",
    "\n",
    "    cons_final = np.sum(cell.distribution)\n",
    "\n",
    "    print('cons_error =', (cons_final - cons_init)/cons_init)\n",
    "    cell_cons_errors.append(np.abs(cons_final - cons_init)/cons_init)\n",
    "\n",
    "    # Save average cell volume fraction\n",
    "\n",
    "    cell_outputs.append(np.sum(cell.distribution)/(nx))"
   ]
  },
  {
   "cell_type": "code",
   "execution_count": 4,
   "metadata": {},
   "outputs": [],
   "source": [
    "cells_grid_error = []\n",
    "spacing_list = []\n",
    "\n",
    "for i in range(1, len(grid_sizes)):\n",
    "    cells_grid_error.append(abs(cell_outputs[i] - cell_outputs[0]) / cell_outputs[0]) \n",
    "    spacing_list.append(1/grid_sizes[i])"
   ]
  },
  {
   "cell_type": "code",
   "execution_count": 5,
   "metadata": {},
   "outputs": [],
   "source": [
    "mx = len(spacing_list) - 1\n",
    "\n",
    "# make list of grid spacings for x axis\n",
    "x = np.linspace(np.log(spacing_list[0]), np.log(spacing_list[mx]), 100)\n",
    "\n",
    "# find line of gradient 2 through a particular data point \n",
    "Ynint = np.log(np.abs(cells_grid_error[2])) - 2 * np.log(spacing_list[2])\n",
    "Yn = Ynint + (2 * x)"
   ]
  },
  {
   "cell_type": "code",
   "execution_count": 7,
   "metadata": {},
   "outputs": [
    {
     "data": {
      "image/png": "[encoded data removed]",
      "text/plain": [
       "<Figure size 576x360 with 1 Axes>"
      ]
     },
     "metadata": {},
     "output_type": "display_data"
    }
   ],
   "source": [
    "# plot cell volume fraction error against grid spacing \n",
    "\n",
    "plt.figure(figsize=(8, 5))\n",
    "plt.plot(np.log(spacing_list), np.log(np.abs(cells_grid_error)), 'o')\n",
    "plt.title('Cell volume fraction grid convergence')\n",
    "plt.xlabel('log(grid spacing)')\n",
    "plt.ylabel('log(error)')\n",
    "plt.plot(x, Yn, 'r')\n",
    "#plt.savefig('cell_grid_convergence.png')"
   ]
  },
  {
   "cell_type": "code",
   "execution_count": 9,
   "metadata": {},
   "outputs": [
    {
     "data": {
      "image/png": "[encoded data removed]",
      "text/plain": [
       "<Figure size 576x360 with 1 Axes>"
      ]
     },
     "metadata": {},
     "output_type": "display_data"
    }
   ],
   "source": [
    "# plot cell_cons_errors\n",
    "\n",
    "plt.figure(figsize=(8, 5))\n",
    "\n",
    "spacing = [1/grid_sizes[i] for i in range(len(grid_sizes))]\n",
    "\n",
    "plt.plot(spacing, 100*np.abs(cell_cons_errors), 'o')\n",
    "plt.title('Cell volume fraction conservation error')\n",
    "plt.xlabel('Grid spacing [-]')\n",
    "plt.ylabel('Conservation error [%]')\n",
    "#plt.savefig('cell_grid_conservation_error.png')"
   ]
  },
  {
   "cell_type": "code",
   "execution_count": null,
   "metadata": {},
   "outputs": [],
   "source": []
  }
 ],
 "metadata": {
  "kernelspec": {
   "display_name": "base",
   "language": "python",
   "name": "python3"
  },
  "language_info": {
   "codemirror_mode": {
    "name": "ipython",
    "version": 3
   },
   "file_extension": ".py",
   "mimetype": "text/x-python",
   "name": "python",
   "nbconvert_exporter": "python",
   "pygments_lexer": "ipython3",
   "version": "3.8.8 (default, Apr 13 2021, 12:59:45) \n[Clang 10.0.0 ]"
  },
  "orig_nbformat": 4,
  "vscode": {
   "interpreter": {
    "hash": "e15a91b2be2c8c7c7ece1f74598c89277cf375967b74fd2eeb252f25808b265f"
   }
  }
 },
 "nbformat": 4,
 "nbformat_minor": 2
}
