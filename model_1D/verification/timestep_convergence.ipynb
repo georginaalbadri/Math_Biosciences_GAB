{
 "cells": [
  {
   "cell_type": "code",
   "execution_count": 2,
   "metadata": {},
   "outputs": [],
   "source": [
    "import sys\n",
    "sys.path.insert(0, '../')\n",
    "import numpy as np\n",
    "import matplotlib.pyplot as plt\n",
    "from src.ModelClasses import Geometry, CellType, Water, Solute, Grid, BoundSolute\n",
    "from src.ModelSetup import Nondimensionalise, CalculateTimestep\n",
    "from src.TimestepManager import Timestep\n",
    "from tqdm import tqdm\n",
    "import seaborn as sns\n",
    "sns.set_style('whitegrid')\n",
    "sns.set_context('paper', font_scale=1.5)"
   ]
  },
  {
   "cell_type": "code",
   "execution_count": 3,
   "metadata": {},
   "outputs": [
    {
     "name": "stderr",
     "output_type": "stream",
     "text": [
      "  0%|          | 7/2001 [00:00<00:31, 63.59it/s]"
     ]
    },
    {
     "name": "stdout",
     "output_type": "stream",
     "text": [
      "2000\n"
     ]
    },
    {
     "name": "stderr",
     "output_type": "stream",
     "text": [
      "100%|██████████| 2001/2001 [00:33<00:00, 59.04it/s]\n",
      "  1%|          | 6/1001 [00:00<00:16, 59.11it/s]"
     ]
    },
    {
     "name": "stdout",
     "output_type": "stream",
     "text": [
      "cons_error = 2.3728015819332936e-06\n",
      "1000\n"
     ]
    },
    {
     "name": "stderr",
     "output_type": "stream",
     "text": [
      "100%|██████████| 1001/1001 [00:16<00:00, 62.47it/s]\n",
      "  1%|          | 6/667 [00:00<00:11, 58.50it/s]"
     ]
    },
    {
     "name": "stdout",
     "output_type": "stream",
     "text": [
      "cons_error = 3.6382717713175537e-06\n",
      "666\n"
     ]
    },
    {
     "name": "stderr",
     "output_type": "stream",
     "text": [
      "100%|██████████| 667/667 [00:10<00:00, 63.74it/s]\n",
      "  1%|▏         | 7/501 [00:00<00:07, 64.06it/s]"
     ]
    },
    {
     "name": "stdout",
     "output_type": "stream",
     "text": [
      "cons_error = 4.287503927787124e-06\n",
      "500\n"
     ]
    },
    {
     "name": "stderr",
     "output_type": "stream",
     "text": [
      "100%|██████████| 501/501 [00:08<00:00, 60.34it/s]\n",
      "  2%|▏         | 7/401 [00:00<00:05, 67.92it/s]"
     ]
    },
    {
     "name": "stdout",
     "output_type": "stream",
     "text": [
      "cons_error = 4.848782342639569e-06\n",
      "400\n"
     ]
    },
    {
     "name": "stderr",
     "output_type": "stream",
     "text": [
      "100%|██████████| 401/401 [00:06<00:00, 63.82it/s]\n",
      "  1%|▏         | 5/334 [00:00<00:07, 45.06it/s]"
     ]
    },
    {
     "name": "stdout",
     "output_type": "stream",
     "text": [
      "cons_error = 5.411717151727566e-06\n",
      "333\n"
     ]
    },
    {
     "name": "stderr",
     "output_type": "stream",
     "text": [
      "100%|██████████| 334/334 [00:05<00:00, 65.72it/s]\n",
      "  2%|▏         | 5/286 [00:00<00:06, 46.41it/s]"
     ]
    },
    {
     "name": "stdout",
     "output_type": "stream",
     "text": [
      "cons_error = 6.0071268564560566e-06\n",
      "285\n"
     ]
    },
    {
     "name": "stderr",
     "output_type": "stream",
     "text": [
      "100%|██████████| 286/286 [00:04<00:00, 70.86it/s]\n",
      "  3%|▎         | 8/251 [00:00<00:03, 75.62it/s]"
     ]
    },
    {
     "name": "stdout",
     "output_type": "stream",
     "text": [
      "cons_error = 6.643553324526926e-06\n",
      "250\n"
     ]
    },
    {
     "name": "stderr",
     "output_type": "stream",
     "text": [
      "100%|██████████| 251/251 [00:03<00:00, 71.13it/s]\n",
      "  2%|▏         | 5/223 [00:00<00:04, 49.28it/s]"
     ]
    },
    {
     "name": "stdout",
     "output_type": "stream",
     "text": [
      "cons_error = 7.345844724302411e-06\n",
      "222\n"
     ]
    },
    {
     "name": "stderr",
     "output_type": "stream",
     "text": [
      "100%|██████████| 223/223 [00:03<00:00, 64.64it/s]\n",
      "  3%|▎         | 7/201 [00:00<00:03, 63.39it/s]"
     ]
    },
    {
     "name": "stdout",
     "output_type": "stream",
     "text": [
      "cons_error = 8.051756227627819e-06\n",
      "200\n"
     ]
    },
    {
     "name": "stderr",
     "output_type": "stream",
     "text": [
      "100%|██████████| 201/201 [00:02<00:00, 69.12it/s]"
     ]
    },
    {
     "name": "stdout",
     "output_type": "stream",
     "text": [
      "cons_error = 8.78557767932875e-06\n"
     ]
    },
    {
     "name": "stderr",
     "output_type": "stream",
     "text": [
      "\n"
     ]
    }
   ],
   "source": [
    "timestep_sizes = [1e-4, 2e-4, 3e-4, 4e-4, 5e-4, 6e-4, 7e-4, 8e-4, 9e-4, 1e-3]\n",
    "\n",
    "cell_outputs = []\n",
    "cell_cons_errors = []\n",
    "\n",
    "for timestep in timestep_sizes:\n",
    "\n",
    "    # --------------------------------------  MODEL SETUP\n",
    "\n",
    "    # Input model geometry and (dimensional) parameters\n",
    "\n",
    "    geometry = Geometry(T = 1e5, L = 3e-3)\n",
    "\n",
    "    cell = CellType(diffusion_rate = 1e-14, initial_volume_fraction = 0.05, chemotaxis_strength=1.36, chemotaxis_strength_bound=42.4, matrix_drag=9.89e9, matrix_traction=0.0, contact_inhibition=0.0, aggregation_strength=0)\n",
    "\n",
    "    water = Water(matrix_volume_fraction=0.03, matrix_drag=5e7)\n",
    "\n",
    "    solute = Solute(diffusion_rate = 1e-11, initial_solute_concentration = 0.0, production_rate=8.74e-11, uptake_rate=0, degradation_rate=8.21e-4, binding_rate=1.5e-3)\n",
    "\n",
    "    bound_solute = BoundSolute(initial_solute_concentration=0, unbinding_rate=3.7e-3, degradation_rate=8.21e-4)\n",
    "\n",
    "    # Initialise grid\n",
    "    nx = 3000\n",
    "\n",
    "    grid = Grid(nx = nx, dx = 1/nx)\n",
    "\n",
    "    # Set initial cell and water distributions\n",
    "\n",
    "    multiplier = int(nx/100)\n",
    "    np.random.seed(28) #fix noise distribution to be the same every time\n",
    "    cell.distribution = cell.initial_volume_fraction + np.random.normal(0, 0.1*cell.initial_volume_fraction, 100)\n",
    "    cell.distribution = np.repeat(cell.distribution, multiplier)\n",
    "    water.distribution = water.available_volume_fraction - cell.distribution\n",
    "\n",
    "    # Set initial cell velocity\n",
    "\n",
    "    cell.velocity = np.zeros(grid.nx)\n",
    "\n",
    "    # Set initial solute distribution\n",
    "\n",
    "    solute.distribution = solute.uniform_solute_distribution(water, grid)\n",
    "\n",
    "    bound_solute.distribution = bound_solute.uniform_solute_distribution(water, grid)\n",
    "\n",
    "    # Save initial distributions\n",
    "\n",
    "    initial_cell_distribution = cell.distribution\n",
    "    initial_solute_distribution = solute.distribution\n",
    "\n",
    "    # Nondimensionalise the input parameters\n",
    "\n",
    "    Nondimensionalise(cell, solute, bound_solute, water, geometry, cM = 1e-9, cell_viscosity = 1e4)\n",
    "\n",
    "    # Set timestep and find number of timesteps\n",
    "\n",
    "    dt = timestep\n",
    "    Tmax = 0.2\n",
    "    nsteps = int(Tmax/dt)\n",
    "    print(nsteps)\n",
    "\n",
    "    # -------------------------------- RUN THE MODEL\n",
    "\n",
    "    cons_init = np.sum(cell.distribution)\n",
    "\n",
    "    for t in tqdm(range(nsteps+1)):\n",
    "        Timestep(cell, solute, bound_solute, water, grid, dt)\n",
    "\n",
    "    # Calculate conservation error\n",
    "\n",
    "    cons_final = np.sum(cell.distribution)\n",
    "\n",
    "    print('cons_error =', (cons_final - cons_init)/cons_init)\n",
    "    cell_cons_errors.append(np.abs(cons_final - cons_init)/cons_init)\n",
    "\n",
    "    # Save average cell volume fraction in list\n",
    "\n",
    "    cell_outputs.append(np.sum(cell.distribution)/(nx))\n"
   ]
  },
  {
   "cell_type": "code",
   "execution_count": 4,
   "metadata": {},
   "outputs": [],
   "source": [
    "cells_time_error = []\n",
    "\n",
    "for i in range(1, len(cell_outputs)):\n",
    "    cells_time_error.append(np.abs(cell_outputs[i] - cell_outputs[0])/cell_outputs[i])"
   ]
  },
  {
   "cell_type": "code",
   "execution_count": 6,
   "metadata": {},
   "outputs": [],
   "source": [
    "timesteps = timestep_sizes[1:]\n",
    "\n",
    "# make list of timesteps for x axis\n",
    "mx = len(timesteps) - 1\n",
    "\n",
    "x = np.linspace(np.log(timesteps[0]), np.log(timesteps[mx]), 100)\n",
    "\n",
    "# find line of gradient 1 through one of data points\n",
    "Ynint = np.log(np.abs(cells_time_error[0])) - 1 * np.log(timesteps[0])\n",
    "Yn = Ynint + (1 * x)"
   ]
  },
  {
   "cell_type": "code",
   "execution_count": 7,
   "metadata": {},
   "outputs": [
    {
     "data": {
      "image/png": "[encoded data removed]",
      "text/plain": [
       "<Figure size 576x360 with 1 Axes>"
      ]
     },
     "metadata": {},
     "output_type": "display_data"
    }
   ],
   "source": [
    "# plot cell volume fraction error against timestep only\n",
    "\n",
    "plt.figure(figsize=(8, 5))\n",
    "plt.plot(np.log(timesteps), np.log(np.abs(cells_time_error)), 'o')\n",
    "plt.title('Cell volume fraction timestep convergence')\n",
    "plt.xlabel('log(timestep)')\n",
    "plt.ylabel('log(error)')\n",
    "plt.plot(x, Yn, 'r')\n",
    "#plt.savefig('cell_timestep_convergence.png')"
   ]
  },
  {
   "cell_type": "code",
   "execution_count": 8,
   "metadata": {},
   "outputs": [
    {
     "data": {
      "image/png": "[encoded data removed]",
      "text/plain": [
       "<Figure size 576x360 with 1 Axes>"
      ]
     },
     "metadata": {},
     "output_type": "display_data"
    }
   ],
   "source": [
    "# plot cell_cons_errors\n",
    "\n",
    "plt.figure(figsize=(8, 5))\n",
    "plt.plot(timestep_sizes[1:], 100*np.abs(cell_cons_errors[1:]), 'o')\n",
    "plt.title('Cell volume fraction conservation error')\n",
    "plt.xlabel('Timestep [-]')\n",
    "plt.ylabel('Conservation error [%]')\n",
    "#plt.savefig('cell_timestep_conservation_error.png')"
   ]
  },
  {
   "cell_type": "code",
   "execution_count": null,
   "metadata": {},
   "outputs": [],
   "source": []
  }
 ],
 "metadata": {
  "kernelspec": {
   "display_name": "base",
   "language": "python",
   "name": "python3"
  },
  "language_info": {
   "codemirror_mode": {
    "name": "ipython",
    "version": 3
   },
   "file_extension": ".py",
   "mimetype": "text/x-python",
   "name": "python",
   "nbconvert_exporter": "python",
   "pygments_lexer": "ipython3",
   "version": "3.8.8 (default, Apr 13 2021, 12:59:45) \n[Clang 10.0.0 ]"
  },
  "orig_nbformat": 4,
  "vscode": {
   "interpreter": {
    "hash": "e15a91b2be2c8c7c7ece1f74598c89277cf375967b74fd2eeb252f25808b265f"
   }
  }
 },
 "nbformat": 4,
 "nbformat_minor": 2
}
