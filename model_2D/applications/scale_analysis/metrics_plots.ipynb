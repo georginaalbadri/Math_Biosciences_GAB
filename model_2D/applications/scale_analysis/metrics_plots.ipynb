{
 "cells": [
  {
   "cell_type": "code",
   "execution_count": 13,
   "metadata": {},
   "outputs": [],
   "source": [
    "import numpy as np\n",
    "import matplotlib.pyplot as plt\n",
    "import seaborn as sns\n",
    "import pandas as pd\n",
    "from scipy.signal import chirp, find_peaks, peak_widths\n",
    "\n",
    "sns.set_context('paper', font_scale=1.4)\n",
    "sns.set_style('whitegrid')"
   ]
  },
  {
   "cell_type": "markdown",
   "metadata": {},
   "source": [
    "## Functions for finding metrics"
   ]
  },
  {
   "cell_type": "code",
   "execution_count": 14,
   "metadata": {},
   "outputs": [],
   "source": [
    "def find_peak_properties(x, prominence=0.05, rel_height=0.5):\n",
    "    # find peaks and ignore any peaks that have low prominence\n",
    "    peaks, _ = find_peaks(x, prominence=prominence)\n",
    "    # find the widths of the peaks\n",
    "    widths, _, left_coords, right_coords = peak_widths(x, peaks, rel_height=rel_height)\n",
    "\n",
    "    # convert arrays to lists\n",
    "    peaks = peaks.tolist()\n",
    "    widths = widths.tolist()\n",
    "    left_coords = left_coords.tolist()\n",
    "    right_coords = right_coords.tolist()\n",
    "\n",
    "    cluster_num = len(widths)\n",
    "\n",
    "    # ignore any peaks that have a width > 0.25\n",
    "    for i in range(cluster_num):\n",
    "        if widths[i] > 20:\n",
    "            widths[i] = np.NaN\n",
    "            left_coords[i] = np.NaN\n",
    "            right_coords[i] = np.NaN\n",
    "\n",
    "    # find the peak heights\n",
    "    peak_heights = x[peaks]\n",
    "\n",
    "    spacings = []\n",
    "\n",
    "    for i in range(len(left_coords)-1):\n",
    "        spacings.append(left_coords[i+1] - right_coords[i])\n",
    "\n",
    "    return peak_heights, widths, spacings"
   ]
  },
  {
   "cell_type": "markdown",
   "metadata": {},
   "source": [
    "## Core model metrics (2D)"
   ]
  },
  {
   "cell_type": "code",
   "execution_count": 15,
   "metadata": {},
   "outputs": [],
   "source": [
    "# import 6 distributions from different initial conditions\n",
    "n_core_T2 = np.load('core/cell_distribution_200_45_t1.98.npy')\n",
    "n_core_ex = np.load('core/cell_distribution_200_28_t1.98.npy')\n",
    "n_core_ex1 = np.load('core/cell_distribution_100_ex1_t1.98.npy')\n",
    "n_core_ex2 = np.load('core/cell_distribution_100_ex2_t1.98.npy')\n",
    "n_core_ex3 = np.load('core/cell_distribution_100_ex3_t1.98.npy')\n",
    "n_core_ex4 = np.load('core/cell_distribution_100_ex4_t1.98.npy')\n",
    "n_core_ex5 = np.load('core/cell_distribution_100_ex5_t1.98.npy')\n",
    "\n",
    "dist_list = [n_core_T2, n_core_ex, n_core_ex1, n_core_ex2, n_core_ex3, n_core_ex4, n_core_ex5]"
   ]
  },
  {
   "cell_type": "code",
   "execution_count": 16,
   "metadata": {},
   "outputs": [],
   "source": [
    "all_widths = []\n",
    "all_heights = []\n",
    "all_spacings = []\n",
    "\n",
    "for dist in dist_list:\n",
    "    ny = dist.shape[0]\n",
    "    # run over horizontal slices\n",
    "    for i in np.linspace(0, ny-1, 10, dtype=int):\n",
    "        heights, widths, spacings = find_peak_properties(dist[i, :])\n",
    "        all_widths.append(widths)\n",
    "        all_heights.append(heights)\n",
    "        all_spacings.append(spacings)\n",
    "\n",
    "    # run over vertical slices\n",
    "    for j in np.linspace(0, ny-1, 10, dtype=int):\n",
    "        heights, widths, spacings = find_peak_properties(dist[:, j])\n",
    "        all_widths.append(widths)\n",
    "        all_heights.append(heights)\n",
    "        all_spacings.append(spacings)"
   ]
  },
  {
   "cell_type": "code",
   "execution_count": 17,
   "metadata": {},
   "outputs": [
    {
     "data": {
      "image/png": "[encoded data removed]",
      "text/plain": [
       "<Figure size 432x360 with 1 Axes>"
      ]
     },
     "metadata": {},
     "output_type": "display_data"
    }
   ],
   "source": [
    "# flatten the lists\n",
    "all_widths = [item for sublist in all_widths for item in sublist]\n",
    "all_heights = [item for sublist in all_heights for item in sublist]\n",
    "all_spacings = [item for sublist in all_spacings for item in sublist]\n",
    "\n",
    "# make the lists the same length by adding nan values\n",
    "all_widths = all_widths + [np.nan]*(len(all_heights) - len(all_widths))\n",
    "all_spacings = all_spacings + [np.nan]*(len(all_heights) - len(all_spacings))\n",
    "\n",
    "# make a dataframe of the data and fill it with nan values to make the data the same length\n",
    "df = pd.DataFrame({'widths': all_widths, 'spacings': all_spacings})\n",
    "df = df*30\n",
    "\n",
    "# make a 3 column plot with a violin plot for widths, heights and spacings\n",
    "plt.figure(figsize=(6, 5))\n",
    "\n",
    "sns.boxplot(data=df, palette='tab10', showfliers=False)\n",
    "#sns.violinplot(data=df, palette='tab10', inner='quartile')\n",
    "\n",
    "mean_width = np.nanmean(all_widths)*30\n",
    "mean_spacing = np.nanmean(all_spacings)*30\n",
    "bbox_props = dict(boxstyle=\"round\", fc=\"w\", ec=\"0.5\", alpha=0.9)\n",
    "\n",
    "textstr = '\\n'.join((\n",
    "    r'Mean width = $%.0f \\mu$m' % (mean_width, ),\n",
    "    r'Mean spacing = $%.0f \\mu$m' % (mean_spacing, )))\n",
    "\n",
    "plt.text(-0.4, 1600, textstr, ha=\"left\", va=\"center\", size=14, bbox=bbox_props)\n",
    "\n",
    "#plt.xlabel('Property')\n",
    "#plt.ylabel(r'Value [$\\mu$m]')\n",
    "# make more y ticks\n",
    "plt.yticks(np.linspace(0, 1800, 9))\n",
    "plt.xticks([0, 1], [r'Width [$\\mu$m]', r'Spacing [$\\mu$m]'])\n",
    "plt.ylim(0, 1800)\n",
    "plt.tight_layout()\n",
    "#plt.savefig('core_metrics_boxplot_2D.png', dpi=300, bbox_inches='tight')\n",
    "\n",
    "# annotate the plot with the mean values\n",
    "mean_width = np.nanmean(all_widths)\n",
    "mean_height = np.nanmean(all_heights)\n",
    "mean_spacing = np.nanmean(all_spacings)\n",
    "\n",
    "#plt.annotate('Mean width = {:.2f}'.format(mean_width), xy=(0, mean_width), xytext=(0, mean_width+0.1))\n",
    "\n",
    "core_widths = all_widths\n",
    "core_spacings = all_spacings"
   ]
  },
  {
   "cell_type": "code",
   "execution_count": 18,
   "metadata": {},
   "outputs": [],
   "source": [
    "#df_heights = pd.DataFrame({'Heights': all_heights})\n",
    "#sns.boxplot(y='Heights', data=df_heights, showfliers=False)\n",
    "#sns.violinplot(y='Heights', data=df_heights, inner='quartile')\n",
    "#plt.xlabel('Maximum cell volume fraction')\n",
    "#plt.ylabel('Volume fraction [-]')\n",
    "#plt.tight_layout()"
   ]
  },
  {
   "cell_type": "markdown",
   "metadata": {},
   "source": [
    "## Binding model metrics (2D)"
   ]
  },
  {
   "cell_type": "code",
   "execution_count": 19,
   "metadata": {},
   "outputs": [],
   "source": [
    "# import 6 distributions from the binding simulations using different initial conditions\n",
    "n_binding_T2 = np.load('binding/cell_distribution_200_45_t2.00.npy')\n",
    "n_binding_ex3 = np.load('binding/cell_distribution_100_ex3_t2.00.npy')\n",
    "n_binding_ex4 = np.load('binding/cell_distribution_100_ex4_t2.00.npy')\n",
    "n_binding_ex5 = np.load('binding/cell_distribution_100_ex5_t2.00.npy')\n",
    "n_binding_ex6 = np.load('binding/cell_distribution_100_ex6_t2.00.npy')\n",
    "n_binding_ex7 = np.load('binding/cell_distribution_100_ex7_t2.00.npy')\n",
    "\n",
    "dist_list = [n_binding_T2, n_binding_ex3, n_binding_ex4, n_binding_ex5, n_binding_ex6, n_binding_ex7]"
   ]
  },
  {
   "cell_type": "code",
   "execution_count": 20,
   "metadata": {},
   "outputs": [],
   "source": [
    "all_widths = []\n",
    "all_heights = []\n",
    "all_spacings = []\n",
    "\n",
    "for dist in dist_list:\n",
    "    ny = dist.shape[0]\n",
    "    # run over horizontal slices\n",
    "    for i in np.linspace(0, ny-1, 10, dtype=int):\n",
    "        heights, widths, spacings = find_peak_properties(dist[i, :])\n",
    "        all_widths.append(widths)\n",
    "        all_heights.append(heights)\n",
    "        all_spacings.append(spacings)\n",
    "\n",
    "    # run over vertical slices\n",
    "    for j in np.linspace(0, ny-1, 10, dtype=int):\n",
    "        heights, widths, spacings = find_peak_properties(dist[:, j])\n",
    "        all_widths.append(widths)\n",
    "        all_heights.append(heights)\n",
    "        all_spacings.append(spacings)"
   ]
  },
  {
   "cell_type": "code",
   "execution_count": 21,
   "metadata": {},
   "outputs": [
    {
     "data": {
      "image/png": "[encoded data removed]",
      "text/plain": [
       "<Figure size 432x360 with 1 Axes>"
      ]
     },
     "metadata": {},
     "output_type": "display_data"
    }
   ],
   "source": [
    "# flatten the lists\n",
    "all_widths = [item for sublist in all_widths for item in sublist]\n",
    "all_heights = [item for sublist in all_heights for item in sublist]\n",
    "all_spacings = [item for sublist in all_spacings for item in sublist]\n",
    "\n",
    "# make the lists the same length by adding nan values\n",
    "all_widths = all_widths + [np.nan]*(len(all_heights) - len(all_widths))\n",
    "all_spacings = all_spacings + [np.nan]*(len(all_heights) - len(all_spacings))\n",
    "\n",
    "# make a dataframe of the data and fill it with nan values to make the data the same length\n",
    "df = pd.DataFrame({'widths': all_widths, 'spacings': all_spacings})\n",
    "df = df*30\n",
    "\n",
    "# make a 3 column plot with a violin plot for widths, heights and spacings\n",
    "plt.figure(figsize=(6, 5))\n",
    "\n",
    "#sns.violinplot(data=df, palette='tab10')\n",
    "sns.boxplot(data=df, palette='tab10', showfliers=False)\n",
    "#plt.xlabel('Property')\n",
    "#plt.ylabel(r'Value [$\\mu$m]')\n",
    "plt.xticks([0, 1], [r'Width [$\\mu$m]', r'Spacing [$\\mu$m]'])\n",
    "plt.ylim(0, 1800)\n",
    "# increase number of y ticks\n",
    "plt.yticks(np.linspace(0, 1800, 9))\n",
    "\n",
    "#make legend to show the mean values\n",
    "mean_width = np.nanmean(all_widths)*30\n",
    "mean_spacing = np.nanmean(all_spacings)*30\n",
    "# make annotation in a box\n",
    "#plt.annotate(r'Mean width = {:.0f} $\\mu$m'.format(mean_width), xy=(0.75, 2800))\n",
    "#plt.annotate(r'Mean spacing = {:.0f} $\\mu$m'.format(mean_spacing), xy=(0.75, 2600))\n",
    "bbox_props = dict(boxstyle=\"round\", fc=\"w\", ec=\"0.5\", alpha=0.9)\n",
    "\n",
    "textstr = '\\n'.join((\n",
    "    r'Mean width = $%.0f \\mu$m' % (mean_width, ),\n",
    "    r'Mean spacing = $%.0f \\mu$m' % (mean_spacing, )))\n",
    "\n",
    "plt.text(-0.4, 1600, textstr, ha=\"left\", va=\"center\", size=14, bbox=bbox_props)\n",
    "#plt.text(0.75, 2500, r'Mean spacing = {:.0f} $\\mu$m'.format(mean_spacing), ha=\"left\", va=\"center\", size=12, bbox=bbox_props)\n",
    "\n",
    "plt.tight_layout()\n",
    "#plt.savefig('binding_metrics_boxplot_2D.png', dpi=300, bbox_inches='tight')\n",
    "\n",
    "# annotate the plot with the mean values\n",
    "mean_width = np.nanmean(all_widths)\n",
    "mean_height = np.nanmean(all_heights)\n",
    "mean_spacing = np.nanmean(all_spacings)\n",
    "\n",
    "#plt.annotate('Mean width = {:.2f}'.format(mean_width), xy=(0, mean_width), xytext=(0, mean_width+0.1))\n",
    "\n",
    "binding_widths = all_widths\n",
    "binding_spacings = all_spacings"
   ]
  },
  {
   "cell_type": "code",
   "execution_count": 22,
   "metadata": {},
   "outputs": [],
   "source": [
    "#df_heights = pd.DataFrame({'Heights': all_heights})\n",
    "#sns.boxplot(y='Heights', data=df_heights, showfliers=False)\n",
    "#sns.violinplot(y='Heights', data=df_heights, inner='quartile')\n",
    "#plt.xlabel('Maximum cell volume fraction')\n",
    "#plt.ylabel('Volume fraction [-]')\n",
    "#plt.tight_layout()\n"
   ]
  },
  {
   "attachments": {},
   "cell_type": "markdown",
   "metadata": {},
   "source": [
    "## check significance"
   ]
  },
  {
   "cell_type": "code",
   "execution_count": 23,
   "metadata": {},
   "outputs": [],
   "source": [
    "# remove nan values from the lists\n",
    "binding_widths = [x for x in binding_widths if str(x) != 'nan']\n",
    "binding_spacings = [x for x in binding_spacings if str(x) != 'nan']\n",
    "core_widths = [x for x in core_widths if str(x) != 'nan']\n",
    "core_spacings = [x for x in core_spacings if str(x) != 'nan']"
   ]
  },
  {
   "cell_type": "code",
   "execution_count": 24,
   "metadata": {},
   "outputs": [
    {
     "name": "stdout",
     "output_type": "stream",
     "text": [
      "t-test for widths:  Ttest_indResult(statistic=-22.891802736192652, pvalue=2.3382774464468635e-91)\n",
      "t-test for spacings:  Ttest_indResult(statistic=-13.361457746249524, pvalue=4.489589937713411e-36)\n"
     ]
    }
   ],
   "source": [
    "import scipy.stats as stats\n",
    "# t-test for the widths\n",
    "ttest_widths = stats.ttest_ind(binding_widths, core_widths)\n",
    "print('t-test for widths: ', ttest_widths)\n",
    "\n",
    "# t-test for the spacings\n",
    "ttest_spacings = stats.ttest_ind(binding_spacings, core_spacings)\n",
    "print('t-test for spacings: ', ttest_spacings)"
   ]
  }
 ],
 "metadata": {
  "kernelspec": {
   "display_name": "base",
   "language": "python",
   "name": "python3"
  },
  "language_info": {
   "codemirror_mode": {
    "name": "ipython",
    "version": 3
   },
   "file_extension": ".py",
   "mimetype": "text/x-python",
   "name": "python",
   "nbconvert_exporter": "python",
   "pygments_lexer": "ipython3",
   "version": "3.8.8 (default, Apr 13 2021, 12:59:45) \n[Clang 10.0.0 ]"
  },
  "orig_nbformat": 4,
  "vscode": {
   "interpreter": {
    "hash": "e15a91b2be2c8c7c7ece1f74598c89277cf375967b74fd2eeb252f25808b265f"
   }
  }
 },
 "nbformat": 4,
 "nbformat_minor": 2
}
