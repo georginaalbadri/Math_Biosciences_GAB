{
 "cells": [
  {
   "cell_type": "code",
   "execution_count": 1,
   "metadata": {},
   "outputs": [],
   "source": [
    "import sys\n",
    "sys.path.insert(0, '../')\n",
    "import numpy as np\n",
    "import matplotlib.pyplot as plt\n",
    "from src.ModelClasses import CellType, Water, Solute, Grid, BoundSolute\n",
    "from src.ModelSetup import Nondimensionalise, CalculateTimestep\n",
    "from src.TimestepManager import Timestep\n",
    "from tqdm import tqdm\n",
    "import seaborn as sns\n",
    "sns.set_style('whitegrid')\n",
    "sns.set_context('paper', font_scale=1.5)"
   ]
  },
  {
   "cell_type": "code",
   "execution_count": 2,
   "metadata": {},
   "outputs": [
    {
     "name": "stderr",
     "output_type": "stream",
     "text": [
      "  0%|          | 0/201 [00:00<?, ?it/s]"
     ]
    },
    {
     "name": "stdout",
     "output_type": "stream",
     "text": [
      "0.005\n",
      "200\n"
     ]
    },
    {
     "name": "stderr",
     "output_type": "stream",
     "text": [
      "100%|██████████| 201/201 [1:06:13<00:00, 19.77s/it]\n",
      "  0%|          | 0/201 [00:00<?, ?it/s]"
     ]
    },
    {
     "name": "stdout",
     "output_type": "stream",
     "text": [
      "cons_error = -1.3964007183568676e-06\n",
      "0.006666666666666667\n",
      "200\n"
     ]
    },
    {
     "name": "stderr",
     "output_type": "stream",
     "text": [
      "100%|██████████| 201/201 [26:53<00:00,  8.03s/it]\n",
      "  0%|          | 0/201 [00:00<?, ?it/s]"
     ]
    },
    {
     "name": "stdout",
     "output_type": "stream",
     "text": [
      "cons_error = 1.2829627429745307e-06\n",
      "0.007142857142857143\n",
      "200\n"
     ]
    },
    {
     "name": "stderr",
     "output_type": "stream",
     "text": [
      "100%|██████████| 201/201 [21:21<00:00,  6.38s/it]\n",
      "  0%|          | 0/201 [00:00<?, ?it/s]"
     ]
    },
    {
     "name": "stdout",
     "output_type": "stream",
     "text": [
      "cons_error = 2.1101042008017835e-06\n",
      "0.007692307692307693\n",
      "200\n"
     ]
    },
    {
     "name": "stderr",
     "output_type": "stream",
     "text": [
      "100%|██████████| 201/201 [17:21<00:00,  5.18s/it]\n",
      "  0%|          | 0/201 [00:00<?, ?it/s]"
     ]
    },
    {
     "name": "stdout",
     "output_type": "stream",
     "text": [
      "cons_error = 2.6478307990788595e-06\n",
      "0.008333333333333333\n",
      "200\n"
     ]
    },
    {
     "name": "stderr",
     "output_type": "stream",
     "text": [
      "100%|██████████| 201/201 [13:49<00:00,  4.12s/it]\n",
      "  0%|          | 0/201 [00:00<?, ?it/s]"
     ]
    },
    {
     "name": "stdout",
     "output_type": "stream",
     "text": [
      "cons_error = 5.948809178503132e-06\n",
      "0.00909090909090909\n",
      "200\n"
     ]
    },
    {
     "name": "stderr",
     "output_type": "stream",
     "text": [
      "100%|██████████| 201/201 [11:15<00:00,  3.36s/it]\n",
      "  0%|          | 0/201 [00:00<?, ?it/s]"
     ]
    },
    {
     "name": "stdout",
     "output_type": "stream",
     "text": [
      "cons_error = 9.618437257180081e-06\n",
      "0.01\n",
      "200\n"
     ]
    },
    {
     "name": "stderr",
     "output_type": "stream",
     "text": [
      "100%|██████████| 201/201 [09:18<00:00,  2.78s/it]\n",
      "  0%|          | 0/201 [00:00<?, ?it/s]"
     ]
    },
    {
     "name": "stdout",
     "output_type": "stream",
     "text": [
      "cons_error = 1.1744737644451175e-05\n",
      "0.011111111111111112\n",
      "200\n"
     ]
    },
    {
     "name": "stderr",
     "output_type": "stream",
     "text": [
      "100%|██████████| 201/201 [09:31<00:00,  2.84s/it]\n",
      "  0%|          | 0/201 [00:00<?, ?it/s]"
     ]
    },
    {
     "name": "stdout",
     "output_type": "stream",
     "text": [
      "cons_error = 1.2670129877508983e-05\n",
      "0.0125\n",
      "200\n"
     ]
    },
    {
     "name": "stderr",
     "output_type": "stream",
     "text": [
      "100%|██████████| 201/201 [12:10<00:00,  3.64s/it]\n",
      "  0%|          | 0/201 [00:00<?, ?it/s]"
     ]
    },
    {
     "name": "stdout",
     "output_type": "stream",
     "text": [
      "cons_error = 1.629755261156033e-05\n",
      "0.014285714285714285\n",
      "200\n"
     ]
    },
    {
     "name": "stderr",
     "output_type": "stream",
     "text": [
      "100%|██████████| 201/201 [07:58<00:00,  2.38s/it]\n",
      "  0%|          | 0/201 [00:00<?, ?it/s]"
     ]
    },
    {
     "name": "stdout",
     "output_type": "stream",
     "text": [
      "cons_error = 0.0001417792166546705\n",
      "0.016666666666666666\n",
      "200\n"
     ]
    },
    {
     "name": "stderr",
     "output_type": "stream",
     "text": [
      "100%|██████████| 201/201 [03:29<00:00,  1.04s/it]"
     ]
    },
    {
     "name": "stdout",
     "output_type": "stream",
     "text": [
      "cons_error = 0.0001744967985588551\n"
     ]
    },
    {
     "name": "stderr",
     "output_type": "stream",
     "text": [
      "\n"
     ]
    }
   ],
   "source": [
    "grid_sizes = [200, 150, 140, 130, 120, 110, 100, 90, 80]\n",
    "\n",
    "cell_outputs = []\n",
    "cell_cons_errors = []\n",
    "\n",
    "for grid_size in grid_sizes:\n",
    "    nx = grid_size\n",
    "    ny = grid_size\n",
    "\n",
    "    # --------------------------------------  MODEL SETUP\n",
    "\n",
    "    grid = Grid(T = 1e5, L = 3e-3, H = 3e-3, nx = nx, ny = ny, h=1/nx)\n",
    "\n",
    "    print(grid.h)\n",
    "\n",
    "    cell = CellType(diffusion_rate = 1e-14, initial_volume_fraction = 0.05, chemotaxis_strength=1.36, bound_chemotaxis_strength=42.4, matrix_drag=9.89e9, matrix_traction=0, contact_inhibition=0.0, aggregation_strength=0)\n",
    "\n",
    "    water = Water(matrix_volume_fraction=0.03, matrix_drag=5e7)\n",
    "\n",
    "    solute = Solute(diffusion_rate = 1e-11, initial_solute_concentration = 0, production_rate=8.74e-11, uptake_rate=0, degradation_rate=8.21e-4, binding_rate=1.5e-3)\n",
    "\n",
    "    bound_solute = BoundSolute(initial_solute_concentration = 0, degradation_rate=8.21e-4, unbinding_rate=3.7e-3)\n",
    "    \n",
    "    # Set initial distributions\n",
    "    \n",
    "    multiplier = int(nx/10)\n",
    "    np.random.seed(45) #fix noise distribution to be the same every time\n",
    "    cell.distribution = cell.initial_volume_fraction + np.random.normal(0, 0.1*cell.initial_volume_fraction, size = (10, 10))\n",
    "    cell.distribution = np.repeat(cell.distribution, multiplier, axis = 0)\n",
    "    cell.distribution = np.repeat(cell.distribution, multiplier, axis = 1)\n",
    "    water.distribution = water.available_volume_fraction - cell.distribution\n",
    "    \n",
    "    cell.x_velocity = np.zeros((grid.nx, grid.ny))\n",
    "    cell.y_velocity = np.zeros((grid.nx, grid.ny))\n",
    "    \n",
    "    solute.distribution = solute.uniform_solute_distribution(water, grid)\n",
    "    bound_solute.distribution = bound_solute.uniform_solute_distribution(water, grid)\n",
    "    \n",
    "    initial_cell_distribution = cell.distribution\n",
    "    initial_solute_distribution = solute.distribution\n",
    "    \n",
    "    # Nondimensionalise the input parameters\n",
    "    \n",
    "    Nondimensionalise(cell, solute, bound_solute, water, grid, cM = 1e-9, cell_viscosity = 1e4)\n",
    "\n",
    "    # Set fixed timestep and number of timesteps\n",
    "\n",
    "    dt = 0.0005\n",
    "    Tmax = 0.1\n",
    "    nsteps = int(Tmax/dt)\n",
    "    print(nsteps)\n",
    "\n",
    "    # -------------------------------- RUN THE MODEL\n",
    "\n",
    "    cons_init = np.sum(cell.distribution)\n",
    "\n",
    "    for t in tqdm(range(nsteps+1)):\n",
    "        Timestep(cell, solute, bound_solute, water, grid, dt)\n",
    "\n",
    "    # Calculate conservation error\n",
    "\n",
    "    cons_final = np.sum(cell.distribution)\n",
    "\n",
    "    print('cons_error =', (cons_final - cons_init)/cons_init)\n",
    "    cell_cons_errors.append(np.abs(cons_final - cons_init)/cons_init)\n",
    "\n",
    "    # Save average cell volume frac for each grid size \n",
    "\n",
    "    cell_outputs.append(np.sum(cell.distribution)/(nx*ny))\n",
    "\n"
   ]
  },
  {
   "cell_type": "code",
   "execution_count": 3,
   "metadata": {},
   "outputs": [],
   "source": [
    "cells_grid_error = []\n",
    "spacing_list = []\n",
    "\n",
    "for i in range(1, len(grid_sizes)):\n",
    "    cells_grid_error.append(abs(cell_outputs[i] - cell_outputs[0]) / cell_outputs[0]) \n",
    "    spacing_list.append(1/grid_sizes[i])"
   ]
  },
  {
   "cell_type": "code",
   "execution_count": 1,
   "metadata": {},
   "outputs": [
    {
     "ename": "NameError",
     "evalue": "name 'np' is not defined",
     "output_type": "error",
     "traceback": [
      "\u001b[0;31m---------------------------------------------------------------------------\u001b[0m",
      "\u001b[0;31mNameError\u001b[0m                                 Traceback (most recent call last)",
      "\u001b[0;32m<ipython-input-1-ef70998e4e30>\u001b[0m in \u001b[0;36m<module>\u001b[0;34m\u001b[0m\n\u001b[0;32m----> 1\u001b[0;31m \u001b[0mlogspace\u001b[0m \u001b[0;34m=\u001b[0m \u001b[0mnp\u001b[0m\u001b[0;34m.\u001b[0m\u001b[0mlog\u001b[0m\u001b[0;34m(\u001b[0m\u001b[0mspacing_list\u001b[0m\u001b[0;34m)\u001b[0m\u001b[0;34m[\u001b[0m\u001b[0;36m1\u001b[0m\u001b[0;34m:\u001b[0m\u001b[0;34m]\u001b[0m\u001b[0;34m\u001b[0m\u001b[0;34m\u001b[0m\u001b[0m\n\u001b[0m\u001b[1;32m      2\u001b[0m \u001b[0mlogerror\u001b[0m \u001b[0;34m=\u001b[0m \u001b[0mnp\u001b[0m\u001b[0;34m.\u001b[0m\u001b[0mlog\u001b[0m\u001b[0;34m(\u001b[0m\u001b[0mnp\u001b[0m\u001b[0;34m.\u001b[0m\u001b[0mabs\u001b[0m\u001b[0;34m(\u001b[0m\u001b[0mcells_grid_error\u001b[0m\u001b[0;34m)\u001b[0m\u001b[0;34m)\u001b[0m\u001b[0;34m\u001b[0m\u001b[0;34m\u001b[0m\u001b[0m\n\u001b[1;32m      3\u001b[0m \u001b[0;34m\u001b[0m\u001b[0m\n\u001b[1;32m      4\u001b[0m \u001b[0mmx\u001b[0m \u001b[0;34m=\u001b[0m \u001b[0mlen\u001b[0m\u001b[0;34m(\u001b[0m\u001b[0mspacing_list\u001b[0m\u001b[0;34m)\u001b[0m \u001b[0;34m-\u001b[0m \u001b[0;36m1\u001b[0m\u001b[0;34m\u001b[0m\u001b[0;34m\u001b[0m\u001b[0m\n\u001b[1;32m      5\u001b[0m \u001b[0;34m\u001b[0m\u001b[0m\n",
      "\u001b[0;31mNameError\u001b[0m: name 'np' is not defined"
     ]
    }
   ],
   "source": [
    "logspace = np.log(spacing_list)[1:]\n",
    "logerror = np.log(np.abs(cells_grid_error))\n",
    "\n",
    "mx = len(spacing_list) - 1\n",
    "\n",
    "x = np.linspace(np.log(spacing_list[0]), np.log(spacing_list[mx-2]), 100)\n",
    "\n",
    "Ynint = logspace[0] - 2 * logerror[0]\n",
    "Yn = Ynint + (2 * x)"
   ]
  },
  {
   "cell_type": "code",
   "execution_count": 14,
   "metadata": {},
   "outputs": [
    {
     "data": {
      "image/png": "[encoded data removed]",
      "text/plain": [
       "<Figure size 576x360 with 1 Axes>"
      ]
     },
     "metadata": {},
     "output_type": "display_data"
    }
   ],
   "source": [
    "# plot cell volume fraction error against grid spacing only\n",
    "\n",
    "plt.figure(figsize=(8, 5))\n",
    "plt.plot(logspace, logerror, 'o')\n",
    "plt.title('Cell volume fraction grid convergence')\n",
    "plt.xlabel('log(grid spacing)')\n",
    "plt.ylabel('log(error)')\n",
    "plt.plot(x, Yn, 'r')\n",
    "#plt.savefig('plots/grid_convergence.png', dpi = 300)"
   ]
  },
  {
   "cell_type": "code",
   "execution_count": 16,
   "metadata": {},
   "outputs": [
    {
     "data": {
      "image/png": "[encoded data removed]",
      "text/plain": [
       "<Figure size 576x360 with 1 Axes>"
      ]
     },
     "metadata": {},
     "output_type": "display_data"
    }
   ],
   "source": [
    "# plot cell_cons_errors\n",
    "\n",
    "spacing = [1/grid_sizes[i] for i in range(len(grid_sizes))]\n",
    "\n",
    "plt.figure(figsize=(8, 5))\n",
    "plt.plot(spacing[:], 100*np.abs(cell_cons_errors)[:], 'o')\n",
    "plt.title('Cell volume fraction conservation error')\n",
    "plt.ylabel('Conservation error [%]')\n",
    "plt.xlabel('Grid spacing [-]')\n",
    "#plt.savefig('plots/grid_conservation.png', dpi = 300)\n"
   ]
  },
  {
   "cell_type": "code",
   "execution_count": 17,
   "metadata": {},
   "outputs": [],
   "source": [
    "with open('plots/optparams_cell_convergence_grid.txt', 'w') as f:\n",
    "    f.write('log(grid spacing): ' + str(logspace) + '\\n')\n",
    "    f.write('log(errors): ' + str(logerror) + '\\n')"
   ]
  },
  {
   "cell_type": "code",
   "execution_count": 18,
   "metadata": {},
   "outputs": [],
   "source": [
    "\n",
    "with open('plots/optparams_cell_conservation_error_grid.txt', 'w') as f:\n",
    "    f.write('grid spacings: ' + str(spacing) + '\\n')\n",
    "    f.write('cell_cons_errors (%): ' + str(100*np.abs(cell_cons_errors)))"
   ]
  },
  {
   "cell_type": "code",
   "execution_count": null,
   "metadata": {},
   "outputs": [],
   "source": []
  }
 ],
 "metadata": {
  "kernelspec": {
   "display_name": "base",
   "language": "python",
   "name": "python3"
  },
  "language_info": {
   "codemirror_mode": {
    "name": "ipython",
    "version": 3
   },
   "file_extension": ".py",
   "mimetype": "text/x-python",
   "name": "python",
   "nbconvert_exporter": "python",
   "pygments_lexer": "ipython3",
   "version": "3.8.8"
  },
  "orig_nbformat": 4,
  "vscode": {
   "interpreter": {
    "hash": "e15a91b2be2c8c7c7ece1f74598c89277cf375967b74fd2eeb252f25808b265f"
   }
  }
 },
 "nbformat": 4,
 "nbformat_minor": 2
}
