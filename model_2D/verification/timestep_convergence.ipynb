{
 "cells": [
  {
   "cell_type": "code",
   "execution_count": 9,
   "metadata": {},
   "outputs": [],
   "source": [
    "import sys\n",
    "sys.path.insert(0, '../')\n",
    "import numpy as np\n",
    "import matplotlib.pyplot as plt\n",
    "from src.ModelClasses import CellType, Water, Solute, Grid, BoundSolute\n",
    "from src.ModelSetup import Nondimensionalise, CalculateTimestep\n",
    "from src.TimestepManager import Timestep\n",
    "from tqdm import tqdm\n",
    "import seaborn as sns\n",
    "sns.set_style('whitegrid')\n",
    "sns.set_context('paper', font_scale=1.5)"
   ]
  },
  {
   "cell_type": "code",
   "execution_count": 10,
   "metadata": {},
   "outputs": [],
   "source": [
    "# --------------------------------------  MODEL SETUP\n",
    "\n",
    "# grid parameters\n",
    "nx = 40\n",
    "ny = 40\n",
    "\n",
    "# domain size is reduced to 1/3 to reduce computational load for testing, i.e. L, H = 1e-3 instead of 3e-3\n",
    "grid = Grid(T = 1e5, L = 1e-3, H = 1e-3, nx = nx, ny = ny, h=1/(3*nx))\n",
    "cell = CellType(diffusion_rate = 1e-14, initial_volume_fraction = 0.05, chemotaxis_strength=1.36, bound_chemotaxis_strength=42.4, matrix_drag=9.89e9, matrix_traction=0, contact_inhibition=0.0, aggregation_strength=0)\n",
    "water = Water(matrix_volume_fraction=0.03, matrix_drag=5e7)\n",
    "solute = Solute(diffusion_rate = 1e-11, initial_solute_concentration = 0, production_rate=8.74e-11, uptake_rate=0, degradation_rate=8.21e-4, binding_rate=1.5e-3)\n",
    "bound_solute = BoundSolute(initial_solute_concentration = 0, degradation_rate=8.21e-4, unbinding_rate=3.7e-3)\n",
    "\n",
    "# Set initial distributions\n",
    "multiplier = int(nx/10)\n",
    "np.random.seed(45) #fix noise distribution to be the same every time\n",
    "cell.distribution = cell.initial_volume_fraction + np.random.normal(0, 0.1*cell.initial_volume_fraction, size = (10, 10))\n",
    "cell.distribution = np.repeat(cell.distribution, multiplier, axis = 0)\n",
    "cell.distribution = np.repeat(cell.distribution, multiplier, axis = 1)\n",
    "water.distribution = water.available_volume_fraction - cell.distribution\n",
    "\n",
    "cell.x_velocity = np.zeros((grid.nx, grid.ny))\n",
    "cell.y_velocity = np.zeros((grid.nx, grid.ny))\n",
    "\n",
    "solute.distribution = solute.uniform_solute_distribution(water, grid)\n",
    "bound_solute.distribution = bound_solute.uniform_solute_distribution(water, grid)\n",
    "\n",
    "initial_cell_distribution = cell.distribution\n",
    "initial_solute_distribution = solute.distribution\n",
    "\n",
    "# Nondimensionalise the input parameters\n",
    "\n",
    "grid.L = 3e-3 # set lengthscale to 3mm for nondimensionalisation to match paper\n",
    "Nondimensionalise(cell, solute, bound_solute, water, grid, cM = 1e-9, cell_viscosity = 1e4)"
   ]
  },
  {
   "cell_type": "code",
   "execution_count": 11,
   "metadata": {},
   "outputs": [
    {
     "name": "stderr",
     "output_type": "stream",
     "text": [
      "  0%|          | 0/2001 [00:00<?, ?it/s]"
     ]
    },
    {
     "name": "stdout",
     "output_type": "stream",
     "text": [
      "2000\n"
     ]
    },
    {
     "name": "stderr",
     "output_type": "stream",
     "text": [
      "100%|██████████| 2001/2001 [13:48<00:00,  2.42it/s]\n",
      "  0%|          | 0/1001 [00:00<?, ?it/s]"
     ]
    },
    {
     "name": "stdout",
     "output_type": "stream",
     "text": [
      "cons_error = -0.00010272384453935692\n",
      "1000\n"
     ]
    },
    {
     "name": "stderr",
     "output_type": "stream",
     "text": [
      "100%|██████████| 1001/1001 [06:35<00:00,  2.53it/s]\n",
      "  0%|          | 0/667 [00:00<?, ?it/s]"
     ]
    },
    {
     "name": "stdout",
     "output_type": "stream",
     "text": [
      "cons_error = -0.00019194506204591802\n",
      "666\n"
     ]
    },
    {
     "name": "stderr",
     "output_type": "stream",
     "text": [
      "100%|██████████| 667/667 [04:09<00:00,  2.67it/s]\n",
      "  0%|          | 0/501 [00:00<?, ?it/s]"
     ]
    },
    {
     "name": "stdout",
     "output_type": "stream",
     "text": [
      "cons_error = -0.00022648219719946804\n",
      "500\n"
     ]
    },
    {
     "name": "stderr",
     "output_type": "stream",
     "text": [
      "100%|██████████| 501/501 [03:08<00:00,  2.66it/s]\n",
      "  0%|          | 0/334 [00:00<?, ?it/s]"
     ]
    },
    {
     "name": "stdout",
     "output_type": "stream",
     "text": [
      "cons_error = -0.0002653205540226489\n",
      "333\n"
     ]
    },
    {
     "name": "stderr",
     "output_type": "stream",
     "text": [
      "100%|██████████| 334/334 [02:07<00:00,  2.61it/s]\n",
      "  0%|          | 0/251 [00:00<?, ?it/s]"
     ]
    },
    {
     "name": "stdout",
     "output_type": "stream",
     "text": [
      "cons_error = -0.0003030412785281114\n",
      "250\n"
     ]
    },
    {
     "name": "stderr",
     "output_type": "stream",
     "text": [
      "100%|██████████| 251/251 [01:40<00:00,  2.51it/s]\n",
      "  0%|          | 0/167 [00:00<?, ?it/s]"
     ]
    },
    {
     "name": "stdout",
     "output_type": "stream",
     "text": [
      "cons_error = -0.00033276431227407\n",
      "166\n"
     ]
    },
    {
     "name": "stderr",
     "output_type": "stream",
     "text": [
      "100%|██████████| 167/167 [01:07<00:00,  2.46it/s]\n",
      "  0%|          | 0/126 [00:00<?, ?it/s]"
     ]
    },
    {
     "name": "stdout",
     "output_type": "stream",
     "text": [
      "cons_error = -0.00034040431201373737\n",
      "125\n"
     ]
    },
    {
     "name": "stderr",
     "output_type": "stream",
     "text": [
      "100%|██████████| 126/126 [00:50<00:00,  2.47it/s]\n",
      "  0%|          | 0/101 [00:00<?, ?it/s]"
     ]
    },
    {
     "name": "stdout",
     "output_type": "stream",
     "text": [
      "cons_error = -0.00031522349963115877\n",
      "100\n"
     ]
    },
    {
     "name": "stderr",
     "output_type": "stream",
     "text": [
      "100%|██████████| 101/101 [00:39<00:00,  2.58it/s]"
     ]
    },
    {
     "name": "stdout",
     "output_type": "stream",
     "text": [
      "cons_error = -0.00024005549588539655\n"
     ]
    },
    {
     "name": "stderr",
     "output_type": "stream",
     "text": [
      "\n"
     ]
    }
   ],
   "source": [
    "timestep_sizes = [5e-5, 1e-4, 1.5e-4, 2e-4, 3e-4, 4e-4, 6e-4, 8e-4, 1e-3]\n",
    "\n",
    "cell_outputs = []\n",
    "cell_cons_errors = []\n",
    "    \n",
    "for timestep in timestep_sizes:\n",
    "\n",
    "    # Calculate number of timesteps required to reach Tmax\n",
    "    dt = timestep\n",
    "    Tmax = 0.1\n",
    "    nsteps = int(Tmax/dt)\n",
    "    print(nsteps)\n",
    "\n",
    "    # Run the model\n",
    "\n",
    "    cons_init = np.sum(cell.distribution)\n",
    "\n",
    "    for t in tqdm(range(nsteps+1)):\n",
    "        Timestep(cell, solute, bound_solute, water, grid, dt)\n",
    "\n",
    "    # Calculate conservation error\n",
    "\n",
    "    cons_final = np.sum(cell.distribution)\n",
    "\n",
    "    print('cons_error =', (cons_final - cons_init)/cons_init)\n",
    "    cell_cons_errors.append((cons_final - cons_init)/cons_init)\n",
    "\n",
    "    # Save average cell volume fraction for each timestep size\n",
    "\n",
    "    nx = grid.nx\n",
    "    ny = grid.ny\n",
    "\n",
    "    cell_outputs.append(np.sum(cell.distribution)/(nx*ny))\n"
   ]
  },
  {
   "cell_type": "code",
   "execution_count": 12,
   "metadata": {},
   "outputs": [],
   "source": [
    "cells_time_error = []\n",
    "\n",
    "for i in range(1, len(timestep_sizes)):\n",
    "    cells_time_error.append(np.abs((cell_outputs[i] - cell_outputs[0])/cell_outputs[0]))\n",
    "    "
   ]
  },
  {
   "cell_type": "code",
   "execution_count": 13,
   "metadata": {},
   "outputs": [],
   "source": [
    "logtimes = np.log(timestep_sizes)[1:]\n",
    "logerrors = np.log(cells_time_error)\n",
    "\n",
    "# make linspace list for x axis\n",
    "mx = len(timestep_sizes) - 2\n",
    "x = np.linspace(logtimes[1], logtimes[mx], 100)\n",
    "\n",
    "# find line of gradient 1 through one of the points\n",
    "Ynint = logerrors[mx-1] - 1 * logtimes[mx-1]\n",
    "Yn = 1 * x + Ynint\n"
   ]
  },
  {
   "cell_type": "code",
   "execution_count": 14,
   "metadata": {},
   "outputs": [
    {
     "data": {
      "text/plain": [
       "Text(0.5, 0, 'log(timestep)')"
      ]
     },
     "execution_count": 14,
     "metadata": {},
     "output_type": "execute_result"
    },
    {
     "data": {
      "image/png": "[encoded data removed]",
      "text/plain": [
       "<Figure size 576x360 with 1 Axes>"
      ]
     },
     "metadata": {},
     "output_type": "display_data"
    }
   ],
   "source": [
    "# plot the results \n",
    "\n",
    "plt.figure(figsize=(8, 5))\n",
    "plt.plot(logtimes[1:], logerrors[1:], 'o')\n",
    "plt.plot(x, Yn, 'r')\n",
    "plt.title('Cell volume fraction')\n",
    "plt.ylabel('log(error)')\n",
    "plt.xlabel('log(timestep)')\n",
    "#plt.savefig('plots/timestep_convergence.png', dpi=300)\n",
    "\n"
   ]
  },
  {
   "cell_type": "code",
   "execution_count": 15,
   "metadata": {},
   "outputs": [
    {
     "data": {
      "text/plain": [
       "Text(0, 0.5, 'Conservation error [%]')"
      ]
     },
     "execution_count": 15,
     "metadata": {},
     "output_type": "execute_result"
    },
    {
     "data": {
      "image/png": "[encoded data removed]",
      "text/plain": [
       "<Figure size 576x360 with 1 Axes>"
      ]
     },
     "metadata": {},
     "output_type": "display_data"
    }
   ],
   "source": [
    "# plot cell conservation error\n",
    "\n",
    "plt.figure(figsize=(8, 5))\n",
    "plt.plot(timestep_sizes[:-2], 100*np.abs(cell_cons_errors[:-2]), 'o')\n",
    "plt.title('Cell conservation error')\n",
    "plt.xlabel('Timestep size [-]')\n",
    "plt.ylabel('Conservation error [%]')\n",
    "#plt.savefig('plots/timestep_conservation.png', dpi = 300)\n"
   ]
  },
  {
   "cell_type": "code",
   "execution_count": null,
   "metadata": {},
   "outputs": [],
   "source": []
  }
 ],
 "metadata": {
  "kernelspec": {
   "display_name": "base",
   "language": "python",
   "name": "python3"
  },
  "language_info": {
   "codemirror_mode": {
    "name": "ipython",
    "version": 3
   },
   "file_extension": ".py",
   "mimetype": "text/x-python",
   "name": "python",
   "nbconvert_exporter": "python",
   "pygments_lexer": "ipython3",
   "version": "3.8.8"
  },
  "orig_nbformat": 4,
  "vscode": {
   "interpreter": {
    "hash": "e15a91b2be2c8c7c7ece1f74598c89277cf375967b74fd2eeb252f25808b265f"
   }
  }
 },
 "nbformat": 4,
 "nbformat_minor": 2
}
